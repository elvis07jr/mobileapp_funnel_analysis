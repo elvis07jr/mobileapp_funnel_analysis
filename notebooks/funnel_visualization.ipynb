{
 "cells": [
  {
   "cell_type": "markdown",
   "id": "de0c6c29",
   "metadata": {},
   "source": [
    "### ✅ Step 1: Pull Funnel Data from MySQL into Pandas"
   ]
  },
  {
   "cell_type": "code",
   "execution_count": 3,
   "id": "8248acd6",
   "metadata": {},
   "outputs": [
    {
     "data": {
      "text/html": [
       "<div>\n",
       "<style scoped>\n",
       "    .dataframe tbody tr th:only-of-type {\n",
       "        vertical-align: middle;\n",
       "    }\n",
       "\n",
       "    .dataframe tbody tr th {\n",
       "        vertical-align: top;\n",
       "    }\n",
       "\n",
       "    .dataframe thead th {\n",
       "        text-align: right;\n",
       "    }\n",
       "</style>\n",
       "<table border=\"1\" class=\"dataframe\">\n",
       "  <thead>\n",
       "    <tr style=\"text-align: right;\">\n",
       "      <th></th>\n",
       "      <th>user_id</th>\n",
       "      <th>event_name</th>\n",
       "      <th>event_timestamp</th>\n",
       "      <th>platform</th>\n",
       "    </tr>\n",
       "  </thead>\n",
       "  <tbody>\n",
       "    <tr>\n",
       "      <th>0</th>\n",
       "      <td>1</td>\n",
       "      <td>app_install</td>\n",
       "      <td>2023-01-01 10:00:00</td>\n",
       "      <td>ios</td>\n",
       "    </tr>\n",
       "    <tr>\n",
       "      <th>1</th>\n",
       "      <td>1</td>\n",
       "      <td>app_open</td>\n",
       "      <td>2023-01-01 10:01:00</td>\n",
       "      <td>ios</td>\n",
       "    </tr>\n",
       "    <tr>\n",
       "      <th>2</th>\n",
       "      <td>1</td>\n",
       "      <td>view_item</td>\n",
       "      <td>2023-01-01 10:05:00</td>\n",
       "      <td>ios</td>\n",
       "    </tr>\n",
       "    <tr>\n",
       "      <th>3</th>\n",
       "      <td>1</td>\n",
       "      <td>add_to_cart</td>\n",
       "      <td>2023-01-01 10:06:00</td>\n",
       "      <td>ios</td>\n",
       "    </tr>\n",
       "    <tr>\n",
       "      <th>4</th>\n",
       "      <td>1</td>\n",
       "      <td>purchase</td>\n",
       "      <td>2023-01-01 10:10:00</td>\n",
       "      <td>ios</td>\n",
       "    </tr>\n",
       "  </tbody>\n",
       "</table>\n",
       "</div>"
      ],
      "text/plain": [
       "   user_id   event_name      event_timestamp platform\n",
       "0        1  app_install  2023-01-01 10:00:00      ios\n",
       "1        1     app_open  2023-01-01 10:01:00      ios\n",
       "2        1    view_item  2023-01-01 10:05:00      ios\n",
       "3        1  add_to_cart  2023-01-01 10:06:00      ios\n",
       "4        1     purchase  2023-01-01 10:10:00      ios"
      ]
     },
     "execution_count": 3,
     "metadata": {},
     "output_type": "execute_result"
    }
   ],
   "source": [
    "import pandas as pd\n",
    "import duckdb\n",
    "import matplotlib.pyplot as plt\n",
    "import seaborn as sns\n",
    "\n",
    "# Load the raw events log\n",
    "events_df = pd.read_csv('data/events.csv')\n",
    "\n",
    "# Preview\n",
    "events_df.head()\n"
   ]
  },
  {
   "cell_type": "markdown",
   "id": "e7d6544b",
   "metadata": {},
   "source": [
    "### 📊 STEP 2: Funnelling Summary with DuckDB SQL"
   ]
  },
  {
   "cell_type": "code",
   "execution_count": 6,
   "id": "0ba23eb5",
   "metadata": {},
   "outputs": [
    {
     "ename": "CatalogException",
     "evalue": "Catalog Error: Table with name events does not exist!\nDid you mean \"pg_views\"?",
     "output_type": "error",
     "traceback": [
      "\u001b[1;31m---------------------------------------------------------------------------\u001b[0m",
      "\u001b[1;31mCatalogException\u001b[0m                          Traceback (most recent call last)",
      "Cell \u001b[1;32mIn[6], line 10\u001b[0m\n\u001b[0;32m      1\u001b[0m \u001b[38;5;66;03m# SQL-like analysis\u001b[39;00m\n\u001b[0;32m      2\u001b[0m funnel_query \u001b[38;5;241m=\u001b[39m \u001b[38;5;124m\"\"\"\u001b[39m\n\u001b[0;32m      3\u001b[0m \u001b[38;5;124mSELECT\u001b[39m\n\u001b[0;32m      4\u001b[0m \u001b[38;5;124m    COUNT(DISTINCT CASE WHEN event_name = \u001b[39m\u001b[38;5;124m'\u001b[39m\u001b[38;5;124mapp_install\u001b[39m\u001b[38;5;124m'\u001b[39m\u001b[38;5;124m THEN user_id END) AS install_count,\u001b[39m\n\u001b[1;32m   (...)\u001b[0m\n\u001b[0;32m      7\u001b[0m \u001b[38;5;124mFROM events\u001b[39m\n\u001b[0;32m      8\u001b[0m \u001b[38;5;124m\"\"\"\u001b[39m\n\u001b[1;32m---> 10\u001b[0m funnel_summary \u001b[38;5;241m=\u001b[39m \u001b[43mduckdb\u001b[49m\u001b[38;5;241;43m.\u001b[39;49m\u001b[43mquery\u001b[49m\u001b[43m(\u001b[49m\u001b[43mfunnel_query\u001b[49m\u001b[43m)\u001b[49m\u001b[38;5;241m.\u001b[39mto_df()\n\u001b[0;32m     11\u001b[0m \u001b[38;5;28mprint\u001b[39m(funnel_summary)\n",
      "\u001b[1;31mCatalogException\u001b[0m: Catalog Error: Table with name events does not exist!\nDid you mean \"pg_views\"?"
     ]
    }
   ],
   "source": [
    "# SQL-like analysis\n",
    "funnel_query = \"\"\"\n",
    "SELECT\n",
    "    COUNT(DISTINCT CASE WHEN event_name = 'app_install' THEN user_id END) AS install_count,\n",
    "    COUNT(DISTINCT CASE WHEN event_name = 'signup' THEN user_id END) AS signup_count,\n",
    "    COUNT(DISTINCT CASE WHEN event_name = 'purchase' THEN user_id END) AS purchase_count\n",
    "FROM events\n",
    "\"\"\"\n",
    "\n",
    "funnel_summary = duckdb.query(funnel_query).to_df()\n",
    "print(funnel_summary)\n"
   ]
  },
  {
   "cell_type": "markdown",
   "id": "82e5dff4",
   "metadata": {},
   "source": [
    "### 🔁 STEP 3: Daily Active Users (DAU)"
   ]
  },
  {
   "cell_type": "code",
   "execution_count": null,
   "id": "83e04afe",
   "metadata": {},
   "outputs": [],
   "source": [
    "# Convert timestamp to datetime\n",
    "events['event_timestamp'] = pd.to_datetime(events['event_timestamp'], errors='coerce')\n",
    "\n",
    "# Calculate Daily Active Users\n",
    "dau = events.groupby(events['event_timestamp'].dt.date)['user_id'].nunique().reset_index()\n",
    "dau.columns = ['date', 'daily_active_users']\n",
    "\n",
    "# Plot\n",
    "import matplotlib.pyplot as plt\n",
    "\n",
    "plt.figure(figsize=(12, 6))\n",
    "plt.plot(dau['date'], dau['daily_active_users'], marker='o')\n",
    "plt.title('📊 Daily Active Users Over Time')\n",
    "plt.xlabel('Date')\n",
    "plt.ylabel('Number of Active Users')\n",
    "plt.xticks(rotation=45)\n",
    "plt.grid(True)\n",
    "plt.tight_layout()\n",
    "plt.show()\n"
   ]
  },
  {
   "cell_type": "markdown",
   "id": "4a2257d4",
   "metadata": {},
   "source": [
    "### 🔄 STEP 4: Retention Analysis"
   ]
  },
  {
   "cell_type": "code",
   "execution_count": null,
   "id": "134add0d",
   "metadata": {},
   "outputs": [],
   "source": [
    "# install date per user\n",
    "installs = events[events['event_name'] == 'app_install']\n",
    "installs = installs[['user_id', 'event_timestamp']].rename(columns={'event_timestamp': 'install_time'})\n",
    "\n",
    "# Merging with all events to calculate days since install\n",
    "events_with_install = events.merge(installs, on='user_id')\n",
    "events_with_install['days_since_install'] = (events_with_install['event_timestamp'] - events_with_install['install_time']).dt.days\n",
    "\n",
    "# Retention: counting users who came back on different days\n",
    "retention = events_with_install.groupby('days_since_install')['user_id'].nunique().reset_index()\n",
    "retention.columns = ['day', 'retained_users']\n",
    "\n",
    "\n",
    "plt.figure(figsize=(10, 5))\n",
    "sns.barplot(data=retention, x='day', y='retained_users', palette='Blues_d')\n",
    "plt.title(\"📊 Retention by Day Since Install\")\n",
    "plt.xlabel(\"Days Since Install\")\n",
    "plt.ylabel(\"Users Retained\")\n",
    "plt.tight_layout()\n",
    "plt.show()\n"
   ]
  },
  {
   "cell_type": "markdown",
   "id": "bcebbe4a",
   "metadata": {},
   "source": [
    "### 🧮 STEP 6: Churn Rate"
   ]
  },
  {
   "cell_type": "code",
   "execution_count": null,
   "id": "4651244d",
   "metadata": {},
   "outputs": [],
   "source": [
    "# Total installs\n",
    "total_users = installs['user_id'].nunique()\n",
    "\n",
    "# Users who came back after 1 day\n",
    "day1_users = retention[retention['day'] == 1]['retained_users'].values[0]\n",
    "\n",
    "# Churn after day 1\n",
    "churn_rate = 1 - (day1_users / total_users)\n",
    "print(f\"Churn Rate after Day 1: {churn_rate:.2%}\")\n"
   ]
  },
  {
   "cell_type": "code",
   "execution_count": null,
   "id": "3d060228",
   "metadata": {},
   "outputs": [],
   "source": []
  },
  {
   "cell_type": "code",
   "execution_count": null,
   "id": "4e92e191-b5d9-4092-822f-65e6b580ea57",
   "metadata": {},
   "outputs": [],
   "source": []
  }
 ],
 "metadata": {
  "kernelspec": {
   "display_name": "Python 3 (ipykernel)",
   "language": "python",
   "name": "python3"
  },
  "language_info": {
   "codemirror_mode": {
    "name": "ipython",
    "version": 3
   },
   "file_extension": ".py",
   "mimetype": "text/x-python",
   "name": "python",
   "nbconvert_exporter": "python",
   "pygments_lexer": "ipython3",
   "version": "3.10.18"
  }
 },
 "nbformat": 4,
 "nbformat_minor": 5
}
